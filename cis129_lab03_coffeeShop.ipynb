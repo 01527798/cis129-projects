{
 "cells": [
  {
   "cell_type": "code",
   "execution_count": 1,
   "id": "1575b517-e835-4cdc-8d8b-3a3492514884",
   "metadata": {},
   "outputs": [],
   "source": [
    "#I am writing a script that takes user inputs for the number of coffees and muffins purchased and calculates the subtotal. \n",
    "#The output display is a receipt."
   ]
  },
  {
   "cell_type": "code",
   "execution_count": 2,
   "id": "78ae9148-0a7d-4c60-8a2c-6b462ec5a756",
   "metadata": {},
   "outputs": [
    {
     "name": "stdin",
     "output_type": "stream",
     "text": [
      "How many coffees would you like to order? 3\n"
     ]
    }
   ],
   "source": [
    "c=input('How many coffees would you like to order?')"
   ]
  },
  {
   "cell_type": "code",
   "execution_count": 3,
   "id": "85348405-ccd5-4eea-9735-8243b10ab799",
   "metadata": {},
   "outputs": [],
   "source": [
    "c=int(c)"
   ]
  },
  {
   "cell_type": "code",
   "execution_count": 4,
   "id": "b048aa25-ba1c-40c1-aaeb-d036ff33945a",
   "metadata": {},
   "outputs": [
    {
     "name": "stdin",
     "output_type": "stream",
     "text": [
      "How many muffins would you like to order? 6\n"
     ]
    }
   ],
   "source": [
    "m=input('How many muffins would you like to order?')"
   ]
  },
  {
   "cell_type": "code",
   "execution_count": 5,
   "id": "18b21b13-d9cf-489d-ac89-ed0c2c597fff",
   "metadata": {},
   "outputs": [],
   "source": [
    "m=int(m)"
   ]
  },
  {
   "cell_type": "code",
   "execution_count": 6,
   "id": "6098908e-74b1-454c-927e-84abd6837329",
   "metadata": {},
   "outputs": [
    {
     "name": "stdout",
     "output_type": "stream",
     "text": [
      "***************************************        \n",
      "My Coffee and Muffin Shop        \n",
      "Number of coffees bought? \n",
      " 3 \n",
      "Number of muffins bought? \n",
      " 6 \n",
      "***************************************\n",
      "\n",
      "\n",
      "***************************************        \n",
      "My Coffee and Muffin Shop Receipt\n",
      " 3 Coffee at $5 each: $ 15 \n",
      " 6 Muffins at $4 each: $ 24 \n",
      "6% tax: $ 2.34 \n",
      "---------      \n",
      "Total: $ 41.34 \n",
      "***************************************\n"
     ]
    }
   ],
   "source": [
    "print('***************************************\\\n",
    "        \\nMy Coffee and Muffin Shop\\\n",
    "        \\nNumber of coffees bought?','\\n',c,\n",
    "        '\\nNumber of muffins bought?','\\n',m,\n",
    "      '\\n***************************************')\n",
    "print('\\n\\n***************************************\\\n",
    "        \\nMy Coffee and Muffin Shop Receipt'\n",
    "      '\\n',c,'Coffee at $5 each:','$',5*c,\n",
    "      '\\n',m,'Muffins at $4 each:','$',4*m,\n",
    "      '\\n6% tax:','$',round(0.06*(5*c+4*m),2),\n",
    "      '\\n---------\\\n",
    "      \\nTotal:','$',round(1.06*(5*c+4*m),2),\n",
    "      '\\n***************************************')  "
   ]
  }
 ],
 "metadata": {
  "kernelspec": {
   "display_name": "Python 3 (ipykernel)",
   "language": "python",
   "name": "python3"
  },
  "language_info": {
   "codemirror_mode": {
    "name": "ipython",
    "version": 3
   },
   "file_extension": ".py",
   "mimetype": "text/x-python",
   "name": "python",
   "nbconvert_exporter": "python",
   "pygments_lexer": "ipython3",
   "version": "3.12.3"
  }
 },
 "nbformat": 4,
 "nbformat_minor": 5
}
