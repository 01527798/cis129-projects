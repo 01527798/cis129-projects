{
 "cells": [
  {
   "cell_type": "code",
   "execution_count": 1,
   "id": "1575b517-e835-4cdc-8d8b-3a3492514884",
   "metadata": {},
   "outputs": [],
   "source": [
    "#I am writing a script that takes user inputs for the number of coffees and muffins purchased and calculates the subtotal. \n",
    "#The output display is a receipt."
   ]
  },
  {
   "cell_type": "code",
   "execution_count": 2,
   "id": "78ae9148-0a7d-4c60-8a2c-6b462ec5a756",
   "metadata": {},
   "outputs": [
    {
     "name": "stdin",
     "output_type": "stream",
     "text": [
      "How many coffees would you like to order? 1\n"
     ]
    }
   ],
   "source": [
    "c=input('How many coffees would you like to order?')"
   ]
  },
  {
   "cell_type": "code",
   "execution_count": 3,
   "id": "85348405-ccd5-4eea-9735-8243b10ab799",
   "metadata": {},
   "outputs": [],
   "source": [
    "c=int(c)"
   ]
  },
  {
   "cell_type": "code",
   "execution_count": 4,
   "id": "b048aa25-ba1c-40c1-aaeb-d036ff33945a",
   "metadata": {},
   "outputs": [
    {
     "name": "stdin",
     "output_type": "stream",
     "text": [
      "How many muffins would you like to order? 2\n"
     ]
    }
   ],
   "source": [
    "m=input('How many muffins would you like to order?')"
   ]
  },
  {
   "cell_type": "code",
   "execution_count": 5,
   "id": "18b21b13-d9cf-489d-ac89-ed0c2c597fff",
   "metadata": {},
   "outputs": [],
   "source": [
    "m=int(m)"
   ]
  },
  {
   "cell_type": "code",
   "execution_count": 6,
   "id": "97b97e1c-1237-4c8a-b3e8-2da9e1f06d2a",
   "metadata": {},
   "outputs": [],
   "source": [
    "#I have added matcha and croissants as purchaseable items in this version."
   ]
  },
  {
   "cell_type": "code",
   "execution_count": 7,
   "id": "d52fb96b-a07c-4e1d-a79c-b91d7b23e8cb",
   "metadata": {},
   "outputs": [
    {
     "name": "stdin",
     "output_type": "stream",
     "text": [
      "How many matchas would you like to order? 1\n"
     ]
    }
   ],
   "source": [
    "h=input('How many matchas would you like to order?')"
   ]
  },
  {
   "cell_type": "code",
   "execution_count": 8,
   "id": "6c7298bf-84f9-474f-b64c-20f50de47908",
   "metadata": {},
   "outputs": [],
   "source": [
    "h=int(h)"
   ]
  },
  {
   "cell_type": "code",
   "execution_count": 9,
   "id": "2317dc45-fd48-4a00-93d5-2b83992f2d9c",
   "metadata": {},
   "outputs": [
    {
     "name": "stdin",
     "output_type": "stream",
     "text": [
      "How many croissants would you like to order? 2\n"
     ]
    }
   ],
   "source": [
    "r=input('How many croissants would you like to order?')"
   ]
  },
  {
   "cell_type": "code",
   "execution_count": 10,
   "id": "6867c38f-f5c3-438d-8711-79f502801af3",
   "metadata": {},
   "outputs": [],
   "source": [
    "r=int(r)"
   ]
  },
  {
   "cell_type": "code",
   "execution_count": 11,
   "id": "07ae570a-84d7-4941-a357-427854048236",
   "metadata": {},
   "outputs": [],
   "source": [
    "#Added the new items to the receipt, changing the wording, and adding a thank you note at the end. "
   ]
  },
  {
   "cell_type": "code",
   "execution_count": 12,
   "id": "6098908e-74b1-454c-927e-84abd6837329",
   "metadata": {},
   "outputs": [
    {
     "name": "stdout",
     "output_type": "stream",
     "text": [
      "***************************************        \n",
      "Kaitlyn's Coffee and Tea        \n",
      "Number of coffees purchased? \n",
      " 1 \n",
      "Number of muffins purchased? \n",
      " 2 \n",
      "Number of matchas purchased? \n",
      " 1 \n",
      "Number of croissants purchased? \n",
      " 2 \n",
      "***************************************\n",
      "\n",
      "\n",
      "***************************************        \n",
      "Kaitlyn's Coffee and Tea Receipt\n",
      " 1 Coffees at $5 each: $ 5 \n",
      " 2 Muffins at $4 each: $ 8 \n",
      " 1 Matchas at $3 each: $ 3 \n",
      " 2 Croissants at $4 each: $ 8 \n",
      "6% tax: $ 1.44 \n",
      "---------      \n",
      "Total: $ 25.44 \n",
      "*************************************** \n",
      "\n",
      "Thank you for stopping by! Get home safe and come back soon.\n"
     ]
    }
   ],
   "source": [
    "print(\"***************************************\\\n",
    "        \\nKaitlyn's Coffee and Tea\\\n",
    "        \\nNumber of coffees purchased?\",'\\n',c,\n",
    "        '\\nNumber of muffins purchased?','\\n',m,\n",
    "        '\\nNumber of matchas purchased?','\\n',h,\n",
    "        '\\nNumber of croissants purchased?','\\n',r,\n",
    "      '\\n***************************************')\n",
    "print(\"\\n\\n***************************************\\\n",
    "        \\nKaitlyn's Coffee and Tea Receipt\"\n",
    "      '\\n',c,'Coffees at $5 each:','$',5*c,\n",
    "      '\\n',m,'Muffins at $4 each:','$',4*m,\n",
    "      '\\n',h,'Matchas at $3 each:','$',3*h,\n",
    "      '\\n',r,'Croissants at $4 each:','$',4*r,\n",
    "      '\\n6% tax:','$',round(0.06*(5*c+4*m+3*h+4*r),2),\n",
    "      '\\n---------\\\n",
    "      \\nTotal:','$',round(1.06*(5*c+4*m+3*h+4*r),2),\n",
    "      '\\n***************************************',\n",
    "     '\\n\\nThank you for stopping by! Get home safe and come back soon.')  "
   ]
  }
 ],
 "metadata": {
  "kernelspec": {
   "display_name": "Python 3 (ipykernel)",
   "language": "python",
   "name": "python3"
  },
  "language_info": {
   "codemirror_mode": {
    "name": "ipython",
    "version": 3
   },
   "file_extension": ".py",
   "mimetype": "text/x-python",
   "name": "python",
   "nbconvert_exporter": "python",
   "pygments_lexer": "ipython3",
   "version": "3.12.3"
  }
 },
 "nbformat": 4,
 "nbformat_minor": 5
}
